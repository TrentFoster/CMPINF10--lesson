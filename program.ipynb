{
 "cells": [
  {
   "cell_type": "code",
   "execution_count": 5,
   "metadata": {},
   "outputs": [
    {
     "name": "stdin",
     "output_type": "stream",
     "text": [
      "Please enter your name: trent\n"
     ]
    },
    {
     "name": "stdout",
     "output_type": "stream",
     "text": [
      "How old are you trent?\n"
     ]
    },
    {
     "name": "stdin",
     "output_type": "stream",
     "text": [
      " 23\n"
     ]
    },
    {
     "name": "stdout",
     "output_type": "stream",
     "text": [
      "Are you registered to vote? \n",
      " A) YES! \n",
      " B) No, but I will be! \n",
      " C) No, and I do not plan on it\n"
     ]
    },
    {
     "name": "stdin",
     "output_type": "stream",
     "text": [
      " b\n"
     ]
    },
    {
     "name": "stdout",
     "output_type": "stream",
     "text": [
      "Way to take initiative!\n"
     ]
    }
   ],
   "source": [
    "name = input(\"Please enter your name:\")\n",
    "print(\"How old are you \" + name + \"?\")\n",
    "age = input()\n",
    "age = int(age)\n",
    "\n",
    "\n",
    "if age >= 18:\n",
    "    print(\"Are you registered to vote? \\n A) YES! \\n B) No, but I will be! \\n C) No, and I do not plan on it\")\n",
    "    response = input()\n",
    "    \n",
    "    if response.lower() == 'a':\n",
    "        print('Awesome!')\n",
    "    elif response.lower() == 'b':\n",
    "        print('Way to take initiative!')\n",
    "    elif response.lower() == 'c':\n",
    "        print('That is okay!')\n",
    "    else:\n",
    "        print('sorry, that was an invalid response')\n",
    "    \n",
    "else:\n",
    "    print(\"Wow, you're pretty young!\")\n",
    "\n"
   ]
  },
  {
   "cell_type": "code",
   "execution_count": null,
   "metadata": {},
   "outputs": [],
   "source": []
  }
 ],
 "metadata": {
  "kernelspec": {
   "display_name": "Python 3",
   "language": "python",
   "name": "python3"
  },
  "language_info": {
   "codemirror_mode": {
    "name": "ipython",
    "version": 3
   },
   "file_extension": ".py",
   "mimetype": "text/x-python",
   "name": "python",
   "nbconvert_exporter": "python",
   "pygments_lexer": "ipython3",
   "version": "3.8.3"
  }
 },
 "nbformat": 4,
 "nbformat_minor": 4
}
